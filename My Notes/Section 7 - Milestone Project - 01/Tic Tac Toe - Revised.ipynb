{
 "cells": [
  {
   "cell_type": "code",
   "execution_count": 19,
   "metadata": {},
   "outputs": [],
   "source": [
    "#Display board\n",
    "\n",
    "from IPython.display import clear_output\n",
    "def display_board(board):\n",
    "    \n",
    "    clear_output()\n",
    "    \n",
    "    print (\"|\" + board[1] + \"|\" + board[2] + \"|\" + board[3] + \"|\")\n",
    "    print (\"-------\")\n",
    "    print (\"|\" + board[4] + \"|\" + board[5] + \"|\" + board[6] + \"|\")\n",
    "    print (\"-------\")\n",
    "    print (\"|\" + board[7] + \"|\" + board[8] + \"|\" + board[9] + \"|\")"
   ]
  },
  {
   "cell_type": "code",
   "execution_count": 20,
   "metadata": {},
   "outputs": [],
   "source": [
    "#Player's marker\n",
    "\n",
    "def player_input():\n",
    "    \n",
    "    marker = \"\"\n",
    "    while not (marker == \"X\" or marker == 'O'):\n",
    "        marker = input(\"Player 1, please choose X or O: \")\n",
    "        \n",
    "    if marker == \"X\":\n",
    "        return ('X','O')\n",
    "    else:\n",
    "        return ('O','X')"
   ]
  },
  {
   "cell_type": "code",
   "execution_count": 21,
   "metadata": {},
   "outputs": [],
   "source": [
    "#Placing of Marker\n",
    "def place_marker(board,marker,position):\n",
    "    \n",
    "    board[position] = marker"
   ]
  },
  {
   "cell_type": "code",
   "execution_count": 38,
   "metadata": {},
   "outputs": [],
   "source": [
    "#Win Check\n",
    "\n",
    "def win_check(board, mark):\n",
    "    \n",
    "    return ((board[1] == board[2] == board[3] == mark) or\n",
    "            (board[4] == board[5] == board[6] == mark) or\n",
    "            (board[7] == board[8] == board[9] == mark) or\n",
    "            (board[1] == board[4] == board[7] == mark) or\n",
    "            (board[2] == board[5] == board[8] == mark) or\n",
    "            (board[3] == board[6] == board[9] == mark) or\n",
    "            (board[1] == board[5] == board[9] == mark) or\n",
    "            (board[3] == board[5] == board[7] == mark))"
   ]
  },
  {
   "cell_type": "code",
   "execution_count": 32,
   "metadata": {},
   "outputs": [],
   "source": [
    "#Player who starts\n",
    "\n",
    "import random\n",
    "def choose_first():\n",
    "    \n",
    "    if random.randint(0,1) == 0:\n",
    "        return \"Player 1\"\n",
    "    else:\n",
    "        return \"Player 2\""
   ]
  },
  {
   "cell_type": "code",
   "execution_count": 33,
   "metadata": {},
   "outputs": [],
   "source": [
    "#Space check\n",
    "\n",
    "def space_check(board,position):\n",
    "    \n",
    "    return board[position] == ' '"
   ]
  },
  {
   "cell_type": "code",
   "execution_count": 25,
   "metadata": {},
   "outputs": [],
   "source": [
    "#Full Check\n",
    "\n",
    "def full_board_check(board):\n",
    "    \n",
    "    return not(board[1] == ' ' or board[2] == ' ' or board[3]\n",
    "              == ' ' or board[4] == ' ' or board[5] == ' ' or board[6]\n",
    "              == ' ' or board[7] == ' ' or board[8] == ' ' or board[9] == ' ')"
   ]
  },
  {
   "cell_type": "code",
   "execution_count": 26,
   "metadata": {},
   "outputs": [],
   "source": [
    "#Player's Position Choice\n",
    "\n",
    "def player_choice(board):\n",
    "    \n",
    "    position = 0\n",
    "    \n",
    "    while position not in [1,2,3,4,5,6,7,8,9] or not space_check(board,position):\n",
    "        position = int(input(\"Please choose a position between 1 to 9: \"))\n",
    "        \n",
    "    return position"
   ]
  },
  {
   "cell_type": "code",
   "execution_count": 27,
   "metadata": {},
   "outputs": [],
   "source": [
    "#Replay\n",
    "\n",
    "def replay():\n",
    "    \n",
    "    return input(\"Do you want to play again? Y or N. \")"
   ]
  },
  {
   "cell_type": "code",
   "execution_count": null,
   "metadata": {},
   "outputs": [
    {
     "name": "stdout",
     "output_type": "stream",
     "text": [
      "|O|O|O|\n",
      "-------\n",
      "|X|X| |\n",
      "-------\n",
      "| | | |\n",
      "Congratulation, player 2 has won the game!\n"
     ]
    }
   ],
   "source": [
    "#Actual game\n",
    "\n",
    "#Setup\n",
    "while True:\n",
    "    \n",
    "    game_board = [' '] * 10\n",
    "    player1_marker, player2_marker = player_input()\n",
    "    \n",
    "    turn = choose_first()\n",
    "    print(turn + ' will go first!')\n",
    "    \n",
    "    play_game = input('Are you ready to play the game? Y or N. ')\n",
    "    if play_game == 'Y':\n",
    "        game_on = True\n",
    "    else:\n",
    "        game_on = False\n",
    "        \n",
    "    while game_on:\n",
    "        if turn == 'Player 1':\n",
    "            \n",
    "            display_board(game_board)\n",
    "            position = player_choice(game_board)\n",
    "            place_marker(game_board,player1_marker,position)\n",
    "\n",
    "            if win_check(game_board,player1_marker):\n",
    "                display_board(game_board)\n",
    "                print('Congratulation, player 1 has won the game!')\n",
    "                game_on = False\n",
    "                replay()\n",
    "                \n",
    "            else:\n",
    "                if full_board_check(game_board):\n",
    "                    display_board(game_board)\n",
    "                    print('The game was a tie!')\n",
    "                    replay()\n",
    "                    break\n",
    "                else:\n",
    "                    turn = 'Player 2'\n",
    "            \n",
    "        if turn == 'Player 2':\n",
    "            \n",
    "            display_board(game_board)\n",
    "            position = player_choice(game_board)\n",
    "            place_marker(game_board,player2_marker,position)\n",
    "\n",
    "            if win_check(game_board,player2_marker):\n",
    "                display_board(game_board)\n",
    "                print('Congratulation, player 2 has won the game!')\n",
    "                replay()\n",
    "                game_on = False\n",
    "                \n",
    "            else:\n",
    "                if full_board_check(game_board):\n",
    "                    display_board(game_board)\n",
    "                    print('The game was a tie!')\n",
    "                    replay()\n",
    "                    break\n",
    "                else:\n",
    "                    turn = 'Player 1'\n",
    "            \n",
    "    if not replay():\n",
    "        break"
   ]
  },
  {
   "cell_type": "code",
   "execution_count": null,
   "metadata": {},
   "outputs": [],
   "source": []
  },
  {
   "cell_type": "code",
   "execution_count": null,
   "metadata": {},
   "outputs": [],
   "source": []
  },
  {
   "cell_type": "code",
   "execution_count": 1,
   "metadata": {},
   "outputs": [
    {
     "ename": "NameError",
     "evalue": "name 'display_board' is not defined",
     "output_type": "error",
     "traceback": [
      "\u001b[1;31m---------------------------------------------------------------------------\u001b[0m",
      "\u001b[1;31mNameError\u001b[0m                                 Traceback (most recent call last)",
      "\u001b[1;32m<ipython-input-1-c4c517f45a08>\u001b[0m in \u001b[0;36m<module>\u001b[1;34m\u001b[0m\n\u001b[1;32m----> 1\u001b[1;33m \u001b[0mdisplay_board\u001b[0m\u001b[1;33m(\u001b[0m\u001b[0mtest_board\u001b[0m\u001b[1;33m)\u001b[0m\u001b[1;33m\u001b[0m\u001b[1;33m\u001b[0m\u001b[0m\n\u001b[0m\u001b[0;32m      2\u001b[0m \u001b[0mtest_board\u001b[0m \u001b[1;33m=\u001b[0m \u001b[1;33m[\u001b[0m\u001b[1;34m'#'\u001b[0m\u001b[1;33m,\u001b[0m\u001b[1;34m'X'\u001b[0m\u001b[1;33m,\u001b[0m\u001b[1;34m'O'\u001b[0m\u001b[1;33m,\u001b[0m\u001b[1;34m'X'\u001b[0m\u001b[1;33m,\u001b[0m\u001b[1;34m'O'\u001b[0m\u001b[1;33m,\u001b[0m\u001b[1;34m'X'\u001b[0m\u001b[1;33m,\u001b[0m\u001b[1;34m'O'\u001b[0m\u001b[1;33m,\u001b[0m\u001b[1;34m'X'\u001b[0m\u001b[1;33m,\u001b[0m\u001b[1;34m'O'\u001b[0m\u001b[1;33m,\u001b[0m\u001b[1;34m'X'\u001b[0m\u001b[1;33m]\u001b[0m\u001b[1;33m\u001b[0m\u001b[1;33m\u001b[0m\u001b[0m\n\u001b[0;32m      3\u001b[0m \u001b[1;33m\u001b[0m\u001b[0m\n\u001b[0;32m      4\u001b[0m \u001b[1;33m\u001b[0m\u001b[0m\n\u001b[0;32m      5\u001b[0m \u001b[1;32mfrom\u001b[0m \u001b[0mIPython\u001b[0m\u001b[1;33m.\u001b[0m\u001b[0mdisplay\u001b[0m \u001b[1;32mimport\u001b[0m \u001b[0mclear_output\u001b[0m\u001b[1;33m\u001b[0m\u001b[1;33m\u001b[0m\u001b[0m\n",
      "\u001b[1;31mNameError\u001b[0m: name 'display_board' is not defined"
     ]
    }
   ],
   "source": [
    "from IPython.display import clear_output\n",
    "def display_board(board):\n",
    "    \n",
    "    clear_output()\n",
    "    \n",
    "    print (\"|\" + board[1] + \"|\" + board[2] + \"|\" + board[3] + \"|\")\n",
    "    print (\"-------\")\n",
    "    print (\"|\" + board[4] + \"|\" + board[5] + \"|\" + board[6] + \"|\")\n",
    "    print (\"-------\")\n",
    "    print (\"|\" + board[7] + \"|\" + board[8] + \"|\" + board[9] + \"|\")\n",
    "\n",
    "display_board(test_board)\n",
    "test_board = ['#','X','O','X','O','X','O','X','O','X']\n",
    "\n",
    "\n",
    "\n",
    "\n"
   ]
  },
  {
   "cell_type": "code",
   "execution_count": null,
   "metadata": {},
   "outputs": [],
   "source": []
  }
 ],
 "metadata": {
  "kernelspec": {
   "display_name": "Python 3",
   "language": "python",
   "name": "python3"
  },
  "language_info": {
   "codemirror_mode": {
    "name": "ipython",
    "version": 3
   },
   "file_extension": ".py",
   "mimetype": "text/x-python",
   "name": "python",
   "nbconvert_exporter": "python",
   "pygments_lexer": "ipython3",
   "version": "3.7.6"
  }
 },
 "nbformat": 4,
 "nbformat_minor": 2
}
